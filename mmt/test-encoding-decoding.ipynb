{
 "cells": [
  {
   "cell_type": "code",
   "id": "initial_id",
   "metadata": {
    "collapsed": true,
    "ExecuteTime": {
     "end_time": "2025-05-14T11:29:13.047259Z",
     "start_time": "2025-05-14T11:29:08.644238Z"
    }
   },
   "source": [
    "import representation\n",
    "import muspy\n",
    "import matplotlib.pyplot as plt\n",
    "import os\n",
    "\n",
    "# Paths\n",
    "encoding_path = \"../data/sod/processed/notes/encoding.json\"\n",
    "midi_in_path = \"../data/sod/SOD/Kunstderfuge/0/1.mid\"\n",
    "\n",
    "# Set the output base to your Desktop\n",
    "desktop = os.path.expanduser(\"~/Desktop\")\n",
    "out_base = os.path.join(desktop, \"six_sonates_pour_le_clavecin_1_1_orch_roundtrip\")\n",
    "\n",
    "# Load encoding\n",
    "encoding = representation.load_encoding(encoding_path)"
   ],
   "outputs": [],
   "execution_count": 2
  },
  {
   "metadata": {
    "ExecuteTime": {
     "end_time": "2025-05-14T11:29:13.687290Z",
     "start_time": "2025-05-14T11:29:13.094249Z"
    }
   },
   "cell_type": "code",
   "source": [
    "# Read MIDI as MusPy object\n",
    "music = muspy.read_midi(midi_in_path)\n",
    "\n",
    "# Fix resolution mismatch if needed\n",
    "expected_resolution = encoding[\"resolution\"]\n",
    "if music.resolution != expected_resolution:\n",
    "    music.adjust_resolution(expected_resolution)"
   ],
   "id": "1609c2e193cdeb77",
   "outputs": [],
   "execution_count": 3
  },
  {
   "metadata": {
    "ExecuteTime": {
     "end_time": "2025-05-14T11:29:13.860456Z",
     "start_time": "2025-05-14T11:29:13.703304Z"
    }
   },
   "cell_type": "code",
   "source": [
    "# Encode to discrete representation (tokens)\n",
    "codes = representation.encode(music, encoding)  # shape: (seq_len, 6)\n",
    "\n",
    "# Decode back to MusPy object\n",
    "music_decoded = representation.decode(codes, encoding)\n",
    "music_decoded = representation.decode(codes, encoding)\n",
    "print(type(music_decoded))\n",
    "print(music_decoded)"
   ],
   "id": "33c748d0e68e3cf6",
   "outputs": [
    {
     "name": "stdout",
     "output_type": "stream",
     "text": [
      "<class 'muspy.music.Music'>\n",
      "Music(metadata=Metadata(schema_version='0.2'), resolution=12, tempos=[Tempo(time=0, qpm=100.0)], tracks=[Track(program=0, is_drum=False, notes=[Note(time=288, pitch=54, duration=3, velocity=64), Note(time=291, pitch=56, duration=21, velocity=64), Note(time=312, pitch=56, duration=24, velocity=64), ...]), Track(program=40, is_drum=False, notes=[Note(time=2922, pitch=82, duration=12, velocity=64), Note(time=2934, pitch=80, duration=6, velocity=64), Note(time=2940, pitch=89, duration=12, velocity=64), ...]), Track(program=42, is_drum=False, notes=[Note(time=2328, pitch=58, duration=12, velocity=64), Note(time=2340, pitch=56, duration=12, velocity=64), Note(time=2352, pitch=59, duration=6, velocity=64), ...]), ...])\n"
     ]
    }
   ],
   "execution_count": 4
  },
  {
   "metadata": {
    "ExecuteTime": {
     "end_time": "2025-05-14T11:29:13.892485Z",
     "start_time": "2025-05-14T11:29:13.877472Z"
    }
   },
   "cell_type": "code",
   "source": "codes.shape",
   "id": "13e37b6b2ca63888",
   "outputs": [
    {
     "data": {
      "text/plain": [
       "(11302, 6)"
      ]
     },
     "execution_count": 5,
     "metadata": {},
     "output_type": "execute_result"
    }
   ],
   "execution_count": 5
  },
  {
   "metadata": {
    "ExecuteTime": {
     "end_time": "2025-05-14T04:33:36.157804Z",
     "start_time": "2025-05-14T04:33:07.535177Z"
    }
   },
   "cell_type": "code",
   "source": [
    "# Save as MIDI\n",
    "music_decoded.write(f\"{out_base}.mid\")\n",
    "\n",
    "# Save as MusPy JSON\n",
    "music_decoded.save(f\"{out_base}.json\")\n",
    "\n",
    "# Save as piano roll PNG\n",
    "music_decoded.show_pianoroll(track_label=\"program\")\n",
    "plt.savefig(f\"{out_base}.png\")\n",
    "plt.close()"
   ],
   "id": "1b9912d5f91486c2",
   "outputs": [],
   "execution_count": 12
  },
  {
   "metadata": {
    "ExecuteTime": {
     "end_time": "2025-05-14T04:38:01.328261Z",
     "start_time": "2025-05-14T04:38:01.315248Z"
    }
   },
   "cell_type": "code",
   "source": "codes.shape",
   "id": "328a5fba191932d0",
   "outputs": [
    {
     "data": {
      "text/plain": [
       "(11302, 6)"
      ]
     },
     "execution_count": 14,
     "metadata": {},
     "output_type": "execute_result"
    }
   ],
   "execution_count": 14
  },
  {
   "metadata": {
    "ExecuteTime": {
     "end_time": "2025-05-14T04:38:37.663419Z",
     "start_time": "2025-05-14T04:38:37.650220Z"
    }
   },
   "cell_type": "code",
   "source": "",
   "id": "76c95eb668a1e9db",
   "outputs": [
    {
     "ename": "AttributeError",
     "evalue": "'Music' object has no attribute 'shape'",
     "output_type": "error",
     "traceback": [
      "\u001B[1;31m---------------------------------------------------------------------------\u001B[0m",
      "\u001B[1;31mAttributeError\u001B[0m                            Traceback (most recent call last)",
      "Cell \u001B[1;32mIn[15], line 1\u001B[0m\n\u001B[1;32m----> 1\u001B[0m \u001B[43mmusic_decoded\u001B[49m\u001B[38;5;241;43m.\u001B[39;49m\u001B[43mshape\u001B[49m\n",
      "\u001B[1;31mAttributeError\u001B[0m: 'Music' object has no attribute 'shape'"
     ]
    }
   ],
   "execution_count": 15
  },
  {
   "metadata": {
    "ExecuteTime": {
     "end_time": "2025-05-14T05:20:16.050632Z",
     "start_time": "2025-05-14T05:20:13.547306Z"
    }
   },
   "cell_type": "code",
   "source": [
    "import torch\n",
    "seq = torch.randint(0, 4, (1, 1024, 6))"
   ],
   "id": "8d3bb5810aadf2c1",
   "outputs": [],
   "execution_count": 18
  },
  {
   "metadata": {
    "ExecuteTime": {
     "end_time": "2025-05-14T05:20:19.551815Z",
     "start_time": "2025-05-14T05:20:19.537942Z"
    }
   },
   "cell_type": "code",
   "source": "seq.shape",
   "id": "cfa6892348fa85a9",
   "outputs": [
    {
     "data": {
      "text/plain": [
       "torch.Size([1, 1024, 6])"
      ]
     },
     "execution_count": 19,
     "metadata": {},
     "output_type": "execute_result"
    }
   ],
   "execution_count": 19
  },
  {
   "metadata": {
    "ExecuteTime": {
     "end_time": "2025-05-14T05:20:29.493236Z",
     "start_time": "2025-05-14T05:20:29.487230Z"
    }
   },
   "cell_type": "code",
   "source": "seq",
   "id": "6f8d4d9317cea046",
   "outputs": [
    {
     "data": {
      "text/plain": [
       "tensor([[[0, 2, 1, 2, 3, 3],\n",
       "         [0, 3, 2, 1, 2, 0],\n",
       "         [1, 3, 0, 0, 0, 0],\n",
       "         ...,\n",
       "         [3, 2, 1, 3, 2, 1],\n",
       "         [0, 1, 3, 1, 1, 3],\n",
       "         [0, 1, 3, 3, 0, 0]]])"
      ]
     },
     "execution_count": 20,
     "metadata": {},
     "output_type": "execute_result"
    }
   ],
   "execution_count": 20
  },
  {
   "metadata": {},
   "cell_type": "code",
   "outputs": [],
   "execution_count": null,
   "source": "",
   "id": "bafc95d3f4315366"
  }
 ],
 "metadata": {
  "kernelspec": {
   "display_name": "Python 3",
   "language": "python",
   "name": "python3"
  },
  "language_info": {
   "codemirror_mode": {
    "name": "ipython",
    "version": 2
   },
   "file_extension": ".py",
   "mimetype": "text/x-python",
   "name": "python",
   "nbconvert_exporter": "python",
   "pygments_lexer": "ipython2",
   "version": "2.7.6"
  }
 },
 "nbformat": 4,
 "nbformat_minor": 5
}
